{
  "cells": [
    {
      "cell_type": "markdown",
      "metadata": {
        "id": "view-in-github",
        "colab_type": "text"
      },
      "source": [
        "<a href=\"https://colab.research.google.com/github/xeminxin/Python_grammer/blob/main/Python08_pandas.ipynb\" target=\"_parent\"><img src=\"https://colab.research.google.com/assets/colab-badge.svg\" alt=\"Open In Colab\"/></a>"
      ]
    },
    {
      "cell_type": "markdown",
      "metadata": {
        "id": "EUAAXAhmeLey"
      },
      "source": [
        "# Pandas"
      ]
    },
    {
      "cell_type": "code",
      "execution_count": null,
      "metadata": {
        "id": "QYp5pxhcdsDH"
      },
      "outputs": [],
      "source": [
        "import pandas as pd\n",
        "from pandas import Series, DataFrame"
      ]
    },
    {
      "cell_type": "code",
      "execution_count": null,
      "metadata": {
        "colab": {
          "base_uri": "https://localhost:8080/"
        },
        "id": "EaT4_YlFd9LP",
        "outputId": "365f4dfc-1aa2-40b5-e074-6f70e87169cb"
      },
      "outputs": [
        {
          "data": {
            "text/plain": [
              "apple     2500\n",
              "banana    3800\n",
              "peer      1200\n",
              "cherry    6000\n",
              "dtype: int64"
            ]
          },
          "execution_count": 2,
          "metadata": {},
          "output_type": "execute_result"
        }
      ],
      "source": [
        "fruit = Series([2500,3800,1200,6000], index=['apple','banana','peer','cherry'])\n",
        "fruit"
      ]
    },
    {
      "cell_type": "code",
      "execution_count": null,
      "metadata": {
        "colab": {
          "base_uri": "https://localhost:8080/"
        },
        "id": "kxPJ_DEceEHH",
        "outputId": "76c35b51-24df-4f12-cc45-af9fdeac1ca8"
      },
      "outputs": [
        {
          "name": "stdout",
          "output_type": "stream",
          "text": [
            "[2500 3800 1200 6000]\n",
            "Index(['apple', 'banana', 'peer', 'cherry'], dtype='object')\n"
          ]
        }
      ],
      "source": [
        "print(fruit.values)\n",
        "print(fruit.index)"
      ]
    },
    {
      "cell_type": "markdown",
      "metadata": {
        "id": "YhHRFRvPeHvf"
      },
      "source": [
        "## Dict 객체를 이용해 Sereies 객체 생성"
      ]
    },
    {
      "cell_type": "code",
      "execution_count": null,
      "metadata": {
        "colab": {
          "background_save": true
        },
        "id": "_VmEq4MEeFyz",
        "outputId": "c5a072d7-b754-463e-e156-3eb67263a9be"
      },
      "outputs": [
        {
          "name": "stdout",
          "output_type": "stream",
          "text": [
            "<class 'dict'>\n"
          ]
        }
      ],
      "source": [
        "# Dict 생성\n",
        "fruitData = {'apple' : 2500, 'banana':3800, 'peer':1200, 'cherry':6000}\n",
        "print(type(fruitData))"
      ]
    },
    {
      "cell_type": "code",
      "execution_count": null,
      "metadata": {
        "id": "jJ-Sc9tsegyB"
      },
      "outputs": [],
      "source": []
    }
  ],
  "metadata": {
    "colab": {
      "provenance": [],
      "authorship_tag": "ABX9TyOxBmfzTM10oI95eIzu7zdR",
      "include_colab_link": true
    },
    "kernelspec": {
      "display_name": "Python 3",
      "name": "python3"
    },
    "language_info": {
      "name": "python"
    }
  },
  "nbformat": 4,
  "nbformat_minor": 0
}