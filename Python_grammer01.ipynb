{
  "nbformat": 4,
  "nbformat_minor": 0,
  "metadata": {
    "colab": {
      "provenance": [],
      "authorship_tag": "ABX9TyNWQc8nYbVS5fv+K38dvyhA",
      "include_colab_link": true
    },
    "kernelspec": {
      "name": "python3",
      "display_name": "Python 3"
    },
    "language_info": {
      "name": "python"
    }
  },
  "cells": [
    {
      "cell_type": "markdown",
      "metadata": {
        "id": "view-in-github",
        "colab_type": "text"
      },
      "source": [
        "<a href=\"https://colab.research.google.com/github/xeminxin/Python_grammer/blob/main/Python_grammer01.ipynb\" target=\"_parent\"><img src=\"https://colab.research.google.com/assets/colab-badge.svg\" alt=\"Open In Colab\"/></a>"
      ]
    },
    {
      "cell_type": "code",
      "execution_count": null,
      "metadata": {
        "id": "z-B4KzlWspMz"
      },
      "outputs": [],
      "source": [
        "# a는 변수냐? 파이썬에서는 아니다.\n",
        "# name or identifier(이름, 혹은 식별자)\n",
        "\n",
        "a = 1\n",
        "\n",
        "# '=' 옆에는 식도 올 수 있고 값도 올 수 있고\n",
        "# 파이썬은 13개의 simple statement, 8개의 compound statement\n",
        "# = 다음에 오는 거(우변), expression(표현식)\n",
        "# 식 : 하나의 결과값으로 축약할 수 있는 것\n",
        "# lambda 는 표현식이라고 함\n",
        "# 함수를 할당해서, a를 변수라고 할 수 없는 것\n",
        "\n",
        "# literal : data의 type을 결정하는 특수문자를 뜻함. (ex. 1. or 'd' 할 때 점이나 '')"
      ]
    },
    {
      "cell_type": "code",
      "source": [
        "# a를 지정했는데 b를 하니까 nameerror\n",
        "b"
      ],
      "metadata": {
        "id": "QXBx8xPsual5"
      },
      "execution_count": null,
      "outputs": []
    },
    {
      "cell_type": "code",
      "source": [
        "a = lambda x : 1"
      ],
      "metadata": {
        "colab": {
          "base_uri": "https://localhost:8080/"
        },
        "id": "CAMwDH9P7eIQ",
        "outputId": "36475541-9ce4-4c74-98dd-92373dd46d6b"
      },
      "execution_count": null,
      "outputs": [
        {
          "output_type": "execute_result",
          "data": {
            "text/plain": [
              "<tf.Tensor: shape=(2,), dtype=int32, numpy=array([1, 1], dtype=int32)>"
            ]
          },
          "metadata": {},
          "execution_count": 4
        }
      ]
    },
    {
      "cell_type": "code",
      "source": [
        "import antigravity\n",
        "# 파이썬 장단점 나옴\n",
        "# 다이나믹 타이핑\n",
        "# "
      ],
      "metadata": {
        "id": "7yNeYPIp7qPo"
      },
      "execution_count": null,
      "outputs": []
    },
    {
      "cell_type": "code",
      "source": [
        "type(a)"
      ],
      "metadata": {
        "colab": {
          "base_uri": "https://localhost:8080/"
        },
        "id": "I4qLbK28CPnP",
        "outputId": "fe2258f6-c820-4a33-c617-7e5e92d04f13"
      },
      "execution_count": null,
      "outputs": [
        {
          "output_type": "stream",
          "name": "stdout",
          "text": [
            "[1, 2, 3, 4, 5]\n"
          ]
        }
      ]
    },
    {
      "cell_type": "code",
      "source": [
        "id(a)\n",
        "# 메모리 지정"
      ],
      "metadata": {
        "colab": {
          "base_uri": "https://localhost:8080/"
        },
        "id": "aeExXROXCQqe",
        "outputId": "324bc46e-f8ca-40cf-f43b-f46f867eebf9"
      },
      "execution_count": null,
      "outputs": [
        {
          "output_type": "execute_result",
          "data": {
            "text/plain": [
              "140327416378496"
            ]
          },
          "metadata": {},
          "execution_count": 7
        }
      ]
    },
    {
      "cell_type": "code",
      "source": [
        "# 우변에 올 수 있는 가장 간단한 식\n",
        "# 숫자 number(atomic) --> 더 이상 쪼갤 수 없다\n",
        "# number! 파이썬의 숫자는 4가지 --> int(literal이 없는 숫자일 때) float(literal이 . or e)\n",
        "# --> complex(j : 복소수) bool(True(1) or False(0))\n",
        "\n",
        "# python에서 쓰는 int 4가지 : 10진법\n",
        "# 파이썬의 int 크기는 무한대"
      ],
      "metadata": {
        "id": "r71TVPVza4oL"
      },
      "execution_count": null,
      "outputs": []
    },
    {
      "cell_type": "code",
      "source": [
        "# float\n",
        "a = 1.\n",
        "a = 1e2"
      ],
      "metadata": {
        "id": "tHq2dXOga6Yl"
      },
      "execution_count": null,
      "outputs": []
    },
    {
      "cell_type": "code",
      "source": [
        "0.1 + 0.1 + 0.1\n",
        "# 부동소수점은 정확하게가 아니라 근접하게 빠르게 해주는 거다\n",
        "# 대충 빠르게는 float, 정확하게는 int\n",
        "# 상황에 따라서 type을 바꿔줘야 한다."
      ],
      "metadata": {
        "colab": {
          "base_uri": "https://localhost:8080/"
        },
        "id": "4RL2Eueua7oQ",
        "outputId": "96b74cda-015d-46b8-f811-0f68d3c12a9f"
      },
      "execution_count": null,
      "outputs": [
        {
          "output_type": "execute_result",
          "data": {
            "text/plain": [
              "0.30000000000000004"
            ]
          },
          "metadata": {},
          "execution_count": 10
        }
      ]
    },
    {
      "cell_type": "code",
      "source": [
        "# 복소수\n",
        "a = 1+3j\n",
        "type(a)"
      ],
      "metadata": {
        "colab": {
          "base_uri": "https://localhost:8080/"
        },
        "id": "rmwmSVZqa8qz",
        "outputId": "7a543859-ec72-4998-c20f-16c95ad110b6"
      },
      "execution_count": null,
      "outputs": [
        {
          "output_type": "execute_result",
          "data": {
            "text/plain": [
              "complex"
            ]
          },
          "metadata": {},
          "execution_count": 11
        }
      ]
    },
    {
      "cell_type": "code",
      "source": [
        "type(True)"
      ],
      "metadata": {
        "colab": {
          "base_uri": "https://localhost:8080/"
        },
        "id": "TGoTeuACa97u",
        "outputId": "ba3e55c1-729e-4162-fc2a-6d0995da4a0c"
      },
      "execution_count": null,
      "outputs": [
        {
          "output_type": "execute_result",
          "data": {
            "text/plain": [
              "bool"
            ]
          },
          "metadata": {},
          "execution_count": 12
        }
      ]
    },
    {
      "cell_type": "code",
      "source": [
        "issubclass(bool, int)"
      ],
      "metadata": {
        "colab": {
          "base_uri": "https://localhost:8080/"
        },
        "id": "__0VY375a_NR",
        "outputId": "3b1b0e55-e0e0-4cab-e6ff-4bcbd9d2a8aa"
      },
      "execution_count": null,
      "outputs": [
        {
          "output_type": "execute_result",
          "data": {
            "text/plain": [
              "True"
            ]
          },
          "metadata": {},
          "execution_count": 13
        }
      ]
    },
    {
      "cell_type": "code",
      "source": [
        "a = 0b1\n",
        "# 2진법\n",
        "# 8진법은 5\n",
        "# 16진법은 x"
      ],
      "metadata": {
        "id": "5s0MsEccbAbv"
      },
      "execution_count": null,
      "outputs": []
    },
    {
      "cell_type": "code",
      "source": [
        "import sys"
      ],
      "metadata": {
        "id": "TfKRFfslbIKj"
      },
      "execution_count": null,
      "outputs": []
    },
    {
      "cell_type": "code",
      "source": [
        "sys.maxsize"
      ],
      "metadata": {
        "colab": {
          "base_uri": "https://localhost:8080/"
        },
        "id": "1CNxfQU4bIf5",
        "outputId": "21a916ec-447c-4cf1-fb0d-a6e3130b2f00"
      },
      "execution_count": null,
      "outputs": [
        {
          "output_type": "execute_result",
          "data": {
            "text/plain": [
              "9223372036854775807"
            ]
          },
          "metadata": {},
          "execution_count": 16
        }
      ]
    },
    {
      "cell_type": "code",
      "source": [
        "a = 100_00\n",
        "type(a)\n",
        "# _는 아무의미는 없지만 사람이 확인하려는 용도\n",
        "# 따라서 10000이랑 같음"
      ],
      "metadata": {
        "id": "f_w6hWW0bKEJ",
        "outputId": "e5e2d9a4-8292-40a9-bc95-dd39002c35f6",
        "colab": {
          "base_uri": "https://localhost:8080/"
        }
      },
      "execution_count": null,
      "outputs": [
        {
          "output_type": "execute_result",
          "data": {
            "text/plain": [
              "int"
            ]
          },
          "metadata": {},
          "execution_count": 17
        }
      ]
    },
    {
      "cell_type": "code",
      "source": [
        "# float\n",
        "sys.float_info"
      ],
      "metadata": {
        "id": "DmKFKo6abLJW",
        "outputId": "651a02c4-c737-4014-aac0-42b42aa74853",
        "colab": {
          "base_uri": "https://localhost:8080/"
        }
      },
      "execution_count": null,
      "outputs": [
        {
          "output_type": "execute_result",
          "data": {
            "text/plain": [
              "sys.float_info(max=1.7976931348623157e+308, max_exp=1024, max_10_exp=308, min=2.2250738585072014e-308, min_exp=-1021, min_10_exp=-307, dig=15, mant_dig=53, epsilon=2.220446049250313e-16, radix=2, rounds=1)"
            ]
          },
          "metadata": {},
          "execution_count": 18
        }
      ]
    },
    {
      "cell_type": "code",
      "source": [],
      "metadata": {
        "id": "8TtxP02BbMyj"
      },
      "execution_count": null,
      "outputs": []
    }
  ]
}