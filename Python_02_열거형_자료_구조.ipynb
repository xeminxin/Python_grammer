{
  "nbformat": 4,
  "nbformat_minor": 0,
  "metadata": {
    "colab": {
      "provenance": [],
      "authorship_tag": "ABX9TyOPRTRlWO3KyvsOjGGuTlkO",
      "include_colab_link": true
    },
    "kernelspec": {
      "name": "python3",
      "display_name": "Python 3"
    },
    "language_info": {
      "name": "python"
    }
  },
  "cells": [
    {
      "cell_type": "markdown",
      "metadata": {
        "id": "view-in-github",
        "colab_type": "text"
      },
      "source": [
        "<a href=\"https://colab.research.google.com/github/xeminxin/Python_grammer/blob/main/Python_02_%EC%97%B4%EA%B1%B0%ED%98%95_%EC%9E%90%EB%A3%8C_%EA%B5%AC%EC%A1%B0.ipynb\" target=\"_parent\"><img src=\"https://colab.research.google.com/assets/colab-badge.svg\" alt=\"Open In Colab\"/></a>"
      ]
    },
    {
      "cell_type": "markdown",
      "source": [
        "# List 객체"
      ],
      "metadata": {
        "id": "SWAIkYs0vVJr"
      }
    },
    {
      "cell_type": "code",
      "execution_count": null,
      "metadata": {
        "colab": {
          "base_uri": "https://localhost:8080/"
        },
        "id": "7oybH0Yiu713",
        "outputId": "a79867de-b4b8-4326-c292-f11f50fb58c1"
      },
      "outputs": [
        {
          "output_type": "stream",
          "name": "stdout",
          "text": [
            "['red', 'green', 'gold']\n",
            "<class 'list'>\n"
          ]
        }
      ],
      "source": [
        "colors = ['red', 'green', 'gold']\n",
        "print(colors)\n",
        "print(type(colors))"
      ]
    },
    {
      "cell_type": "markdown",
      "source": [
        "## List에 새로운 값 추가"
      ],
      "metadata": {
        "id": "QApyX5V5wiOT"
      }
    },
    {
      "cell_type": "markdown",
      "source": [
        "### **Append**\n",
        "리스트 맨 뒤에 새로운 값 추가"
      ],
      "metadata": {
        "id": "-ZKHhV7M9Q-e"
      }
    },
    {
      "cell_type": "code",
      "source": [
        "colors.append('blue')\n",
        "print(colors)"
      ],
      "metadata": {
        "colab": {
          "base_uri": "https://localhost:8080/"
        },
        "id": "OeOZHIu5wWng",
        "outputId": "d3db6b64-3375-44e8-9d83-e83da43f06d9"
      },
      "execution_count": null,
      "outputs": [
        {
          "output_type": "stream",
          "name": "stdout",
          "text": [
            "['red', 'green', 'gold', 'blue']\n"
          ]
        }
      ]
    },
    {
      "cell_type": "markdown",
      "source": [
        "### **Insert**\n",
        "내가 지정하는 위치에 값 추가\n",
        "\n",
        "\n",
        "```\n",
        "insert.(원하는 위치, 추가할 값)\n",
        "```"
      ],
      "metadata": {
        "id": "zSk5KSxXw7P8"
      }
    },
    {
      "cell_type": "code",
      "source": [
        "colors.insert(1, 'black')\n",
        "print(colors)"
      ],
      "metadata": {
        "colab": {
          "base_uri": "https://localhost:8080/"
        },
        "id": "VwZjccnOwnuk",
        "outputId": "888dcd3c-e0a6-47ca-aca7-d7bafa253354"
      },
      "execution_count": null,
      "outputs": [
        {
          "output_type": "stream",
          "name": "stdout",
          "text": [
            "['red', 'black', 'green', 'gold', 'blue']\n"
          ]
        }
      ]
    },
    {
      "cell_type": "markdown",
      "source": [
        "### **extend**\n",
        "동시에 여러개 추가(확장)"
      ],
      "metadata": {
        "id": "HO3qEm_dxMAs"
      }
    },
    {
      "cell_type": "code",
      "source": [
        "colors.extend(['white', 'gray'])\n",
        "print(colors)"
      ],
      "metadata": {
        "colab": {
          "base_uri": "https://localhost:8080/"
        },
        "id": "aiBV4FfKw6tN",
        "outputId": "602f1b1e-3169-47d9-e4cd-b39b723dec0a"
      },
      "execution_count": null,
      "outputs": [
        {
          "output_type": "stream",
          "name": "stdout",
          "text": [
            "['red', 'black', 'green', 'gold', 'blue', 'white', 'gray']\n"
          ]
        }
      ]
    },
    {
      "cell_type": "markdown",
      "source": [
        "### 연산자로 추가\n",
        "사용하지 않는 것을 추천함\n"
      ],
      "metadata": {
        "id": "_ubLXNUFxqkP"
      }
    },
    {
      "cell_type": "code",
      "source": [
        "colors += ['red']\n",
        "# colors = colors + ['red']\n",
        "# 둘이 같은 코드\n",
        "\n",
        "print(colors)"
      ],
      "metadata": {
        "colab": {
          "base_uri": "https://localhost:8080/"
        },
        "id": "5yerJ9xzxUO7",
        "outputId": "dbefc446-dd66-4e5e-c8d0-787ef4e7c9fb"
      },
      "execution_count": null,
      "outputs": [
        {
          "output_type": "stream",
          "name": "stdout",
          "text": [
            "['red', 'black', 'green', 'gold', 'blue', 'white', 'gray', 'red']\n"
          ]
        }
      ]
    },
    {
      "cell_type": "code",
      "source": [
        "# 꺽새 없이 항목만\n",
        "colors += 'red'\n",
        "print(colors)\n",
        "\n",
        "# 이렇게 하면 철자가 하나씩 들어감\n",
        "# 이런 실수가 생길 수 있으니 operators보다는 append를 사용하는 것을 추천!"
      ],
      "metadata": {
        "colab": {
          "base_uri": "https://localhost:8080/"
        },
        "id": "NQE80mjXx_dH",
        "outputId": "e715dfd5-3d28-4839-9b87-b94823172251"
      },
      "execution_count": null,
      "outputs": [
        {
          "output_type": "stream",
          "name": "stdout",
          "text": [
            "['red', 'black', 'green', 'gold', 'blue', 'white', 'gray', 'red', 'r', 'e', 'd']\n"
          ]
        }
      ]
    },
    {
      "cell_type": "markdown",
      "source": [
        "## List 안에서 값이 어디에 있는지 찾기"
      ],
      "metadata": {
        "id": "ZxS9DIBIym2I"
      }
    },
    {
      "cell_type": "code",
      "source": [
        "print(colors.index('red'))\n",
        "# red가 지금 두개 있음\n",
        "\n",
        "print(colors.index('red', 1))\n",
        "# index 1부터 찾게 하는 것. 찾고자 하는 값 뒤에 index 써주기"
      ],
      "metadata": {
        "colab": {
          "base_uri": "https://localhost:8080/"
        },
        "id": "c5tPz84EyQ0z",
        "outputId": "75795e66-2e8d-4c4b-927c-157a4dc1bb9d"
      },
      "execution_count": null,
      "outputs": [
        {
          "output_type": "stream",
          "name": "stdout",
          "text": [
            "0\n",
            "7\n"
          ]
        }
      ]
    },
    {
      "cell_type": "markdown",
      "source": [
        "### **Count**\n",
        "값이 몇 개 있는지 찾기"
      ],
      "metadata": {
        "id": "vT_y3i-jzOI2"
      }
    },
    {
      "cell_type": "code",
      "source": [
        "print(colors.count('red'))"
      ],
      "metadata": {
        "colab": {
          "base_uri": "https://localhost:8080/"
        },
        "id": "VyjKurqMyrP6",
        "outputId": "0c594e5a-1cc1-448d-8744-a7b5c2d89ae2"
      },
      "execution_count": null,
      "outputs": [
        {
          "output_type": "stream",
          "name": "stdout",
          "text": [
            "2\n"
          ]
        }
      ]
    },
    {
      "cell_type": "markdown",
      "source": [
        "### **Pop**\n",
        "값 꺼내기"
      ],
      "metadata": {
        "id": "6t5YFdbn6pyl"
      }
    },
    {
      "cell_type": "code",
      "source": [
        "colors.pop()"
      ],
      "metadata": {
        "colab": {
          "base_uri": "https://localhost:8080/",
          "height": 35
        },
        "id": "Cv6OA3URzNl8",
        "outputId": "66dfeabf-816d-4b63-fbb0-8f244e95d8f4"
      },
      "execution_count": null,
      "outputs": [
        {
          "output_type": "execute_result",
          "data": {
            "text/plain": [
              "'d'"
            ],
            "application/vnd.google.colaboratory.intrinsic+json": {
              "type": "string"
            }
          },
          "metadata": {},
          "execution_count": 20
        }
      ]
    },
    {
      "cell_type": "code",
      "source": [
        "colors.pop()"
      ],
      "metadata": {
        "colab": {
          "base_uri": "https://localhost:8080/",
          "height": 35
        },
        "id": "9OhdwkpP61iF",
        "outputId": "df1fa7ef-de47-455b-b5c4-63d1e1d13684"
      },
      "execution_count": null,
      "outputs": [
        {
          "output_type": "execute_result",
          "data": {
            "text/plain": [
              "'e'"
            ],
            "application/vnd.google.colaboratory.intrinsic+json": {
              "type": "string"
            }
          },
          "metadata": {},
          "execution_count": 23
        }
      ]
    },
    {
      "cell_type": "code",
      "source": [
        "colors.pop(1)"
      ],
      "metadata": {
        "colab": {
          "base_uri": "https://localhost:8080/",
          "height": 35
        },
        "id": "LShs_dAK6hri",
        "outputId": "71c223ce-d3ae-4850-ca66-dd7463b66b73"
      },
      "execution_count": null,
      "outputs": [
        {
          "output_type": "execute_result",
          "data": {
            "text/plain": [
              "'black'"
            ],
            "application/vnd.google.colaboratory.intrinsic+json": {
              "type": "string"
            }
          },
          "metadata": {},
          "execution_count": 21
        }
      ]
    },
    {
      "cell_type": "code",
      "source": [
        "print(colors)\n",
        "\n",
        "# pop으로 제거하고 남은 것들 출력됨됨"
      ],
      "metadata": {
        "colab": {
          "base_uri": "https://localhost:8080/"
        },
        "id": "vYa2Z1E06jF7",
        "outputId": "856a50bd-cdaf-4c92-8dc7-942aa3e2cf8d"
      },
      "execution_count": null,
      "outputs": [
        {
          "output_type": "stream",
          "name": "stdout",
          "text": [
            "['red', 'green', 'gold', 'blue', 'white', 'gray', 'red', 'r']\n"
          ]
        }
      ]
    },
    {
      "cell_type": "markdown",
      "source": [
        "### **Remove**\n",
        "삭제 기능\n",
        "\n",
        "remove는 해당 값을 삭제 할 수 있다."
      ],
      "metadata": {
        "id": "Q-idIroM67Bk"
      }
    },
    {
      "cell_type": "code",
      "source": [
        "colors.remove('gold')\n",
        "print(colors)"
      ],
      "metadata": {
        "colab": {
          "base_uri": "https://localhost:8080/"
        },
        "id": "EwSWk6RC66fx",
        "outputId": "a24729be-381a-4013-d17d-b3b4707eac43"
      },
      "execution_count": null,
      "outputs": [
        {
          "output_type": "stream",
          "name": "stdout",
          "text": [
            "['red', 'green', 'blue', 'white', 'gray', 'red', 'r']\n"
          ]
        }
      ]
    },
    {
      "cell_type": "markdown",
      "source": [
        "pop은 stack이라는 개념(위치로 제거) / \n",
        "remove는 단순한 배열(내가 원하는 이름으로 제거)\n",
        "\n",
        "둘이 같지 않음"
      ],
      "metadata": {
        "id": "gW_W0xqc7opp"
      }
    },
    {
      "cell_type": "markdown",
      "source": [
        "### **Sort**\n",
        "정렬\n",
        "sort는 알파벳 순서대로 정렬한다. / reverse는 순서를 거꾸로 정렬한다."
      ],
      "metadata": {
        "id": "p3AS4_Ql7We7"
      }
    },
    {
      "cell_type": "code",
      "source": [
        "colors.sort()\n",
        "print(colors)\n",
        "colors.reverse()\n",
        "print(colors)"
      ],
      "metadata": {
        "colab": {
          "base_uri": "https://localhost:8080/"
        },
        "id": "zca5Ngt06vBI",
        "outputId": "52467938-29b1-40cf-8be6-54b4bd9c67ac"
      },
      "execution_count": null,
      "outputs": [
        {
          "output_type": "stream",
          "name": "stdout",
          "text": [
            "['blue', 'gray', 'green', 'r', 'red', 'red', 'white']\n",
            "['white', 'red', 'red', 'r', 'green', 'gray', 'blue']\n"
          ]
        }
      ]
    },
    {
      "cell_type": "markdown",
      "source": [
        "## **Set**\n",
        "리스트보다는 가벼운 것"
      ],
      "metadata": {
        "id": "k2zRYgOf8G9S"
      }
    },
    {
      "cell_type": "code",
      "source": [
        "a = {1, 2, 3}\n",
        "b = {3, 4, 5}"
      ],
      "metadata": {
        "id": "vdgxkQ4_70nO"
      },
      "execution_count": null,
      "outputs": []
    },
    {
      "cell_type": "code",
      "source": [
        "print(a, b)\n",
        "print(type(a))"
      ],
      "metadata": {
        "colab": {
          "base_uri": "https://localhost:8080/"
        },
        "id": "HG2tfPVJ8Q-Y",
        "outputId": "7400e51d-76ee-494e-b999-ef0bb962ee84"
      },
      "execution_count": null,
      "outputs": [
        {
          "output_type": "stream",
          "name": "stdout",
          "text": [
            "{1, 2, 3} {3, 4, 5}\n",
            "<class 'set'>\n"
          ]
        }
      ]
    },
    {
      "cell_type": "markdown",
      "source": [
        "장점 : 가벼우니 메모리를 늘려준다.\n",
        "\n",
        "합집합, 교집합을 구할 수 있다."
      ],
      "metadata": {
        "id": "ocEj533w8jni"
      }
    },
    {
      "cell_type": "code",
      "source": [
        "print(a.union(b))           # 합집합\n",
        "print(a.intersection(b))    # 교집합"
      ],
      "metadata": {
        "colab": {
          "base_uri": "https://localhost:8080/"
        },
        "id": "0upQ8FGA8fta",
        "outputId": "e0c21b40-55fa-44b6-d85d-5171c00fd249"
      },
      "execution_count": null,
      "outputs": [
        {
          "output_type": "stream",
          "name": "stdout",
          "text": [
            "{1, 2, 3, 4, 5}\n",
            "{3}\n"
          ]
        }
      ]
    },
    {
      "cell_type": "code",
      "source": [
        "print(a-b)            # 차집합\n",
        "print(a|b)            # 합집합\n",
        "print(a&b)            # 교집합"
      ],
      "metadata": {
        "colab": {
          "base_uri": "https://localhost:8080/"
        },
        "id": "GmNGBpAg9idN",
        "outputId": "d4f1668d-24aa-4611-ce6c-3039afba3cca"
      },
      "execution_count": null,
      "outputs": [
        {
          "output_type": "stream",
          "name": "stdout",
          "text": [
            "{1, 2}\n",
            "{1, 2, 3, 4, 5}\n",
            "{3}\n"
          ]
        }
      ]
    },
    {
      "cell_type": "markdown",
      "source": [
        "## 튜플(tuple)\n",
        "어떤 상황에 사용되는가?\n",
        "다른 언어에서는 \n",
        "\n",
        "```\n",
        "](a, b) = (1, 2)\n",
        "```\n",
        "형식이 안되는데, 파이썬은 된다.\n"
      ],
      "metadata": {
        "id": "AH6RRkq992xj"
      }
    },
    {
      "cell_type": "code",
      "source": [
        "t = (1, 2, 3)\n",
        "print(type(t))"
      ],
      "metadata": {
        "colab": {
          "base_uri": "https://localhost:8080/"
        },
        "id": "r8akCKtn9pB5",
        "outputId": "9eefb49d-a702-431f-ae2d-0ed8a4d61fbc"
      },
      "execution_count": null,
      "outputs": [
        {
          "output_type": "stream",
          "name": "stdout",
          "text": [
            "<class 'tuple'>\n"
          ]
        }
      ]
    },
    {
      "cell_type": "code",
      "source": [
        "(a, b) = (1, 2)\n",
        "print(a)"
      ],
      "metadata": {
        "colab": {
          "base_uri": "https://localhost:8080/"
        },
        "id": "HRpWSUYd-Rnk",
        "outputId": "8da3edf5-9d33-4688-e355-b288328b8119"
      },
      "execution_count": null,
      "outputs": [
        {
          "output_type": "stream",
          "name": "stdout",
          "text": [
            "1\n"
          ]
        }
      ]
    },
    {
      "cell_type": "markdown",
      "source": [
        "### 서로 값 바꿔주기"
      ],
      "metadata": {
        "id": "8owDjrPj_f4x"
      }
    },
    {
      "cell_type": "code",
      "source": [
        "a = 10\n",
        "b = 20\n",
        "(a, b) = (b, a)\n",
        "print(a, b)"
      ],
      "metadata": {
        "colab": {
          "base_uri": "https://localhost:8080/"
        },
        "id": "n4X9ATjh-rLQ",
        "outputId": "46ae1729-d882-49ad-f1f9-71b06d9e97f6"
      },
      "execution_count": null,
      "outputs": [
        {
          "output_type": "stream",
          "name": "stdout",
          "text": [
            "20 10\n"
          ]
        }
      ]
    },
    {
      "cell_type": "markdown",
      "source": [
        "### 타입의 전환"
      ],
      "metadata": {
        "id": "ZCJIv3qQAFsh"
      }
    },
    {
      "cell_type": "code",
      "source": [
        "a = set((1, 2, 3))\n",
        "print(type(a))\n",
        "\n",
        "b = list(a)\n",
        "print(type(b))\n",
        "\n",
        "c = tuple(b)\n",
        "print(type(c))\n",
        "\n",
        "d = set(c)\n",
        "print(type(d))"
      ],
      "metadata": {
        "colab": {
          "base_uri": "https://localhost:8080/"
        },
        "id": "bc777D_F_fG7",
        "outputId": "d32d96bb-2106-4b6a-a0ad-7aab88e85651"
      },
      "execution_count": null,
      "outputs": [
        {
          "output_type": "stream",
          "name": "stdout",
          "text": [
            "<class 'set'>\n",
            "<class 'list'>\n",
            "<class 'tuple'>\n",
            "<class 'set'>\n"
          ]
        }
      ]
    },
    {
      "cell_type": "markdown",
      "source": [
        "## **in** 연산자\n",
        "해당 값이 있는지 확인 가능"
      ],
      "metadata": {
        "id": "5iw6bPbfA2QT"
      }
    },
    {
      "cell_type": "code",
      "source": [
        "a = set((1, 2, 3))\n",
        "print(1 in a)"
      ],
      "metadata": {
        "colab": {
          "base_uri": "https://localhost:8080/"
        },
        "id": "VpbZwCSMAMha",
        "outputId": "7c59ea35-b657-424b-eeb7-0208e2698e00"
      },
      "execution_count": null,
      "outputs": [
        {
          "output_type": "stream",
          "name": "stdout",
          "text": [
            "True\n"
          ]
        }
      ]
    },
    {
      "cell_type": "markdown",
      "source": [
        "in 연산자는 데이터 타입에 상관없이 사용할 수 있다."
      ],
      "metadata": {
        "id": "dGXXqcuPBT4w"
      }
    },
    {
      "cell_type": "markdown",
      "source": [
        "## **Dictionary**(사전)"
      ],
      "metadata": {
        "id": "S8lVYPuMEhn_"
      }
    },
    {
      "cell_type": "code",
      "source": [
        "d = dict(a=1, b=2, c=3)\n",
        "print(d)\n",
        "print(type(d))"
      ],
      "metadata": {
        "colab": {
          "base_uri": "https://localhost:8080/"
        },
        "id": "ZSMstJSYBSeW",
        "outputId": "033cbd33-be7f-4265-fd36-5ce1ce424dff"
      },
      "execution_count": null,
      "outputs": [
        {
          "output_type": "stream",
          "name": "stdout",
          "text": [
            "{'a': 1, 'b': 2, 'c': 3}\n",
            "<class 'dict'>\n"
          ]
        }
      ]
    },
    {
      "cell_type": "code",
      "source": [
        "color = {'apple' : 'red', 'banana' : 'yellow'}\n",
        "print(color)"
      ],
      "metadata": {
        "colab": {
          "base_uri": "https://localhost:8080/"
        },
        "id": "JPSgnriPErgD",
        "outputId": "aafacdf2-c080-4a49-b778-c7cb6757deba"
      },
      "execution_count": null,
      "outputs": [
        {
          "output_type": "stream",
          "name": "stdout",
          "text": [
            "{'apple': 'red', 'banana': 'yellow'}\n"
          ]
        }
      ]
    },
    {
      "cell_type": "code",
      "source": [
        "print(color['apple'])\n",
        "# print(color[0])\n",
        "#  dict 타입은 인덱스 없다.\n",
        "\n",
        "# print(color['cherry'])\n",
        "# 없는 거 물어도 에러 발생"
      ],
      "metadata": {
        "colab": {
          "base_uri": "https://localhost:8080/"
        },
        "id": "1NKChiMLFf34",
        "outputId": "47f77b17-3ecb-4f26-a853-deffbd44379d"
      },
      "execution_count": null,
      "outputs": [
        {
          "output_type": "stream",
          "name": "stdout",
          "text": [
            "red\n"
          ]
        }
      ]
    },
    {
      "cell_type": "code",
      "source": [
        "color['cherry'] = 'red'\n",
        "print(color)"
      ],
      "metadata": {
        "colab": {
          "base_uri": "https://localhost:8080/"
        },
        "id": "i_H7OjGjF1G-",
        "outputId": "0f22615c-f1a6-449d-dce1-96481d76914a"
      },
      "execution_count": null,
      "outputs": [
        {
          "output_type": "stream",
          "name": "stdout",
          "text": [
            "{'apple': 'red', 'banana': 'yellow', 'cherry': 'red'}\n"
          ]
        }
      ]
    },
    {
      "cell_type": "markdown",
      "source": [
        "체리라는 값은 없는데 넣으니까, 만들어서 red 추가 해줌. 다만, 물어봤을 때 없으면 에러 나는 것\n",
        "\n",
        "--> 파이썬 특성"
      ],
      "metadata": {
        "id": "qLeFZo5qGdG4"
      }
    },
    {
      "cell_type": "code",
      "source": [
        "color['apple'] = 'green'\n",
        "print(color)"
      ],
      "metadata": {
        "colab": {
          "base_uri": "https://localhost:8080/"
        },
        "id": "J54sqGYHGaoZ",
        "outputId": "a782b6b7-6706-4611-9fc8-0ade337263eb"
      },
      "execution_count": null,
      "outputs": [
        {
          "output_type": "stream",
          "name": "stdout",
          "text": [
            "{'apple': 'green', 'banana': 'yellow', 'cherry': 'red'}\n"
          ]
        }
      ]
    },
    {
      "cell_type": "markdown",
      "source": [
        "key는 중복될 수 없다. value만 되고, key가 중복이 되면 변경이 된다."
      ],
      "metadata": {
        "id": "mLqLjnJkGxEx"
      }
    },
    {
      "cell_type": "code",
      "source": [
        "print(color.keys())\n",
        "print(color.values())\n",
        "print(color.items())        # 아이템 단위로 묶어서 보기"
      ],
      "metadata": {
        "colab": {
          "base_uri": "https://localhost:8080/"
        },
        "id": "a6YQ_PTTGrA8",
        "outputId": "7d4d470e-6827-40ac-922a-93d8d2892cb1"
      },
      "execution_count": null,
      "outputs": [
        {
          "output_type": "stream",
          "name": "stdout",
          "text": [
            "dict_keys(['apple', 'banana', 'cherry'])\n",
            "dict_values(['green', 'yellow', 'red'])\n",
            "dict_items([('apple', 'green'), ('banana', 'yellow'), ('cherry', 'red')])\n"
          ]
        }
      ]
    },
    {
      "cell_type": "markdown",
      "source": [
        "## **for문**\n",
        "for문 사용해서 데이터 가져와보기"
      ],
      "metadata": {
        "id": "FgYGRr2kHu8U"
      }
    },
    {
      "cell_type": "code",
      "source": [
        "for k in color.keys():          # key의 개수만큼 반복\n",
        "  print(k)"
      ],
      "metadata": {
        "colab": {
          "base_uri": "https://localhost:8080/"
        },
        "id": "TT5hPvB8HJLZ",
        "outputId": "90918b93-417b-4a72-9885-b7df40439026"
      },
      "execution_count": null,
      "outputs": [
        {
          "output_type": "stream",
          "name": "stdout",
          "text": [
            "apple\n",
            "banana\n",
            "cherry\n"
          ]
        }
      ]
    },
    {
      "cell_type": "code",
      "source": [
        "for v in color.values():\n",
        "  print(v)"
      ],
      "metadata": {
        "colab": {
          "base_uri": "https://localhost:8080/"
        },
        "id": "zqkV2J-sI7Dn",
        "outputId": "35fc6fe1-f7f2-494c-cd67-ba3926722f4c"
      },
      "execution_count": null,
      "outputs": [
        {
          "output_type": "stream",
          "name": "stdout",
          "text": [
            "green\n",
            "yellow\n",
            "red\n"
          ]
        }
      ]
    },
    {
      "cell_type": "code",
      "source": [
        "for i in color.items():\n",
        "  print(i)"
      ],
      "metadata": {
        "colab": {
          "base_uri": "https://localhost:8080/"
        },
        "id": "F9RBmWMiJAMQ",
        "outputId": "b864b71b-280f-4786-ef05-870c4b6122be"
      },
      "execution_count": null,
      "outputs": [
        {
          "output_type": "stream",
          "name": "stdout",
          "text": [
            "('apple', 'green')\n",
            "('banana', 'yellow')\n",
            "('cherry', 'red')\n"
          ]
        }
      ]
    },
    {
      "cell_type": "code",
      "source": [
        "for (k, v) in color.items():\n",
        "  print(k, v)"
      ],
      "metadata": {
        "colab": {
          "base_uri": "https://localhost:8080/"
        },
        "id": "hiNyPWEzJkVY",
        "outputId": "3ef64c5e-df62-40bc-b6f4-5b89fb562cfb"
      },
      "execution_count": null,
      "outputs": [
        {
          "output_type": "stream",
          "name": "stdout",
          "text": [
            "apple green\n",
            "banana yellow\n",
            "cherry red\n"
          ]
        }
      ]
    },
    {
      "cell_type": "markdown",
      "source": [
        "## Del\n",
        "불필요한 아이템의 삭제"
      ],
      "metadata": {
        "id": "tCRmJUNaK0Vi"
      }
    },
    {
      "cell_type": "code",
      "source": [
        "del color['cherry']\n",
        "print(color)"
      ],
      "metadata": {
        "colab": {
          "base_uri": "https://localhost:8080/"
        },
        "id": "zaDoJvsqKB-d",
        "outputId": "d4f19569-a416-44d9-9c26-b5c16b5848ed"
      },
      "execution_count": null,
      "outputs": [
        {
          "output_type": "stream",
          "name": "stdout",
          "text": [
            "{'apple': 'green', 'banana': 'yellow'}\n"
          ]
        }
      ]
    },
    {
      "cell_type": "markdown",
      "source": [
        "## **Dict** data type"
      ],
      "metadata": {
        "id": "2JCHYeKbNKZ0"
      }
    },
    {
      "cell_type": "markdown",
      "source": [
        "데이터 타입은 서로 혼용해서 사용하는 것이 가능하다."
      ],
      "metadata": {
        "id": "RVZJL3zSMv3u"
      }
    },
    {
      "cell_type": "code",
      "source": [
        "d = {'age' : 40.5, 'job' : [1, 2, 3], 'name' : {'Kim' : 2}, 'Cho' : 1}\n",
        "print(d)"
      ],
      "metadata": {
        "colab": {
          "base_uri": "https://localhost:8080/"
        },
        "id": "RKXcPPZuLIUl",
        "outputId": "50162d5b-d92b-4a0c-94f8-f8e0407dbd9e"
      },
      "execution_count": null,
      "outputs": [
        {
          "output_type": "stream",
          "name": "stdout",
          "text": [
            "{'age': 40.5, 'job': [1, 2, 3], 'name': {'Kim': 2}, 'Cho': 1}\n"
          ]
        }
      ]
    },
    {
      "cell_type": "markdown",
      "source": [
        "## **Bool**\n",
        "true or false"
      ],
      "metadata": {
        "id": "Q571HwtYNUUX"
      }
    },
    {
      "cell_type": "code",
      "source": [
        "isRight = False\n",
        "print(type(isRight))"
      ],
      "metadata": {
        "colab": {
          "base_uri": "https://localhost:8080/"
        },
        "id": "mFuI_PJyNGWX",
        "outputId": "769d01fa-fd5a-4485-af44-cc94538187ae"
      },
      "execution_count": null,
      "outputs": [
        {
          "output_type": "stream",
          "name": "stdout",
          "text": [
            "<class 'bool'>\n"
          ]
        }
      ]
    },
    {
      "cell_type": "code",
      "source": [
        "print(1 < 2)\n",
        "print(1 == 2)\n",
        "print(1 != 2)"
      ],
      "metadata": {
        "colab": {
          "base_uri": "https://localhost:8080/"
        },
        "id": "2IQn-UfRNqnp",
        "outputId": "339d286e-a28b-44eb-c955-1b98d5f0289c"
      },
      "execution_count": null,
      "outputs": [
        {
          "output_type": "stream",
          "name": "stdout",
          "text": [
            "True\n",
            "False\n",
            "True\n"
          ]
        }
      ]
    },
    {
      "cell_type": "markdown",
      "source": [
        "### 논리 연산자"
      ],
      "metadata": {
        "id": "rqFqH_D-OS_3"
      }
    },
    {
      "cell_type": "code",
      "source": [
        "print(True and False)\n",
        "print(True & True)\n",
        "print(True or False)\n",
        "print(False | False)          # or 명칭은 버티컬바\n",
        "print(not True)               # True가 들어오면 무조건 False, False가 들어오면 무조건 True"
      ],
      "metadata": {
        "colab": {
          "base_uri": "https://localhost:8080/"
        },
        "id": "C5LeMbLBOD4S",
        "outputId": "57a30264-bdd5-4cae-bafd-454ebefe77d3"
      },
      "execution_count": null,
      "outputs": [
        {
          "output_type": "stream",
          "name": "stdout",
          "text": [
            "False\n",
            "True\n",
            "True\n",
            "False\n",
            "False\n"
          ]
        }
      ]
    },
    {
      "cell_type": "markdown",
      "source": [
        "## 얕은 복사와 깊은 복사"
      ],
      "metadata": {
        "id": "_t6X_1tkTUOl"
      }
    },
    {
      "cell_type": "code",
      "source": [
        "a = [1, 2, 3]         # list type\n",
        "b = a                 # a의 내용이 b에 copy\n",
        "print(b)"
      ],
      "metadata": {
        "colab": {
          "base_uri": "https://localhost:8080/"
        },
        "id": "EIeInsVcOm4e",
        "outputId": "38b4ab4b-2cd3-465e-cef3-9bdfb4050707"
      },
      "execution_count": null,
      "outputs": [
        {
          "output_type": "stream",
          "name": "stdout",
          "text": [
            "[1, 2, 3]\n"
          ]
        }
      ]
    },
    {
      "cell_type": "markdown",
      "source": [
        "### Call by reference\n",
        "copy 하는 대상의 주소를 복사해오기 때문에 원본 수정시 복사본도 같이 수정됨\n",
        "\n",
        "--> 얕은 복사"
      ],
      "metadata": {
        "id": "kOxzD3BcVG_M"
      }
    },
    {
      "cell_type": "code",
      "source": [
        "a[0] = 38\n",
        "print(a)\n",
        "print(b)\n",
        "\n",
        "# a 수정했는데 b도 같이 바뀜"
      ],
      "metadata": {
        "colab": {
          "base_uri": "https://localhost:8080/"
        },
        "id": "QAHCHr_5TgZ5",
        "outputId": "748c7093-340f-45ee-e223-9ae991c74507"
      },
      "execution_count": null,
      "outputs": [
        {
          "output_type": "stream",
          "name": "stdout",
          "text": [
            "[38, 2, 3]\n",
            "[38, 2, 3]\n"
          ]
        }
      ]
    },
    {
      "cell_type": "markdown",
      "source": [
        "### Call by value\n",
        "값만 copy 하는 것. 원본 수정해도 복사본에 영향 없음\n",
        "\n",
        "--> 깊은 복사(deep copy)"
      ],
      "metadata": {
        "id": "XpwYQq6xVAOa"
      }
    },
    {
      "cell_type": "code",
      "source": [
        "a = [1,2,3]\n",
        "b = a[:]\n",
        "a[0] = 38\n",
        "print(a, b)"
      ],
      "metadata": {
        "colab": {
          "base_uri": "https://localhost:8080/"
        },
        "id": "DIjE98YVTxv5",
        "outputId": "4e03328c-2632-4562-d9aa-16d0cce25436"
      },
      "execution_count": null,
      "outputs": [
        {
          "output_type": "stream",
          "name": "stdout",
          "text": [
            "[38, 2, 3] [1, 2, 3]\n"
          ]
        }
      ]
    },
    {
      "cell_type": "markdown",
      "source": [
        "### Copy Module을 사용하는 법\n",
        "import : 기본 패키지 외에 추가적인 패키지를 메모리에 불러올 때 사용\n",
        "\n",
        "--> 깊은 복사(deep copy)"
      ],
      "metadata": {
        "id": "AP3d013CVguE"
      }
    },
    {
      "cell_type": "code",
      "source": [
        "import copy\n",
        "\n",
        "a = [1,2,3]\n",
        "b = copy.deepcopy(a)\n",
        "a[0] = 38\n",
        "print(a, b)"
      ],
      "metadata": {
        "colab": {
          "base_uri": "https://localhost:8080/"
        },
        "id": "x2GopoWeVQj6",
        "outputId": "e8d553f4-83b6-4187-9403-e2a19896a6ab"
      },
      "execution_count": null,
      "outputs": [
        {
          "output_type": "stream",
          "name": "stdout",
          "text": [
            "[38, 2, 3] [1, 2, 3]\n"
          ]
        }
      ]
    },
    {
      "cell_type": "code",
      "source": [],
      "metadata": {
        "id": "AV9JObNbV50K"
      },
      "execution_count": null,
      "outputs": []
    }
  ]
}