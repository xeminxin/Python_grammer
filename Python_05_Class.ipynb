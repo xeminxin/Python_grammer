{
  "nbformat": 4,
  "nbformat_minor": 0,
  "metadata": {
    "colab": {
      "provenance": [],
      "authorship_tag": "ABX9TyMUVj8C2qxGiAAJcPAasVYj",
      "include_colab_link": true
    },
    "kernelspec": {
      "name": "python3",
      "display_name": "Python 3"
    },
    "language_info": {
      "name": "python"
    }
  },
  "cells": [
    {
      "cell_type": "markdown",
      "metadata": {
        "id": "view-in-github",
        "colab_type": "text"
      },
      "source": [
        "<a href=\"https://colab.research.google.com/github/xeminxin/Python_grammer/blob/main/Python_05_Class.ipynb\" target=\"_parent\"><img src=\"https://colab.research.google.com/assets/colab-badge.svg\" alt=\"Open In Colab\"/></a>"
      ]
    },
    {
      "cell_type": "markdown",
      "source": [
        "# Class"
      ],
      "metadata": {
        "id": "zBkS4-FJMDFm"
      }
    },
    {
      "cell_type": "code",
      "execution_count": null,
      "metadata": {
        "id": "lYBho2GGIqGg"
      },
      "outputs": [],
      "source": [
        "# class의 사용법\n",
        "\n",
        "class MyClass:\n",
        "  pass"
      ]
    },
    {
      "cell_type": "code",
      "source": [
        "print(id(MyClass))"
      ],
      "metadata": {
        "colab": {
          "base_uri": "https://localhost:8080/"
        },
        "id": "Dsyxvz4jI9FI",
        "outputId": "0a8c1729-5d6f-4335-b5e5-77f1de7c60f3"
      },
      "execution_count": null,
      "outputs": [
        {
          "output_type": "stream",
          "name": "stdout",
          "text": [
            "39953552\n"
          ]
        }
      ]
    },
    {
      "cell_type": "code",
      "source": [
        "class Person:\n",
        "  Name = 'Default Name'\n",
        "\n",
        "  def Print(self):\n",
        "    print('My Name is {0}'.format(self.Name))"
      ],
      "metadata": {
        "id": "xJOATNTHJFA5"
      },
      "execution_count": null,
      "outputs": []
    },
    {
      "cell_type": "markdown",
      "source": [
        "self는 고정되어있는 원칙\n",
        "\n",
        "p1이라는 instance 생성"
      ],
      "metadata": {
        "id": "PjeyFe4oL9Zg"
      }
    },
    {
      "cell_type": "code",
      "source": [
        "p1 = Person()"
      ],
      "metadata": {
        "id": "ZJ36y5aYLiin"
      },
      "execution_count": null,
      "outputs": []
    },
    {
      "cell_type": "code",
      "source": [
        "p1.Name = 'xeminxin'\n",
        "p1.Print()"
      ],
      "metadata": {
        "colab": {
          "base_uri": "https://localhost:8080/"
        },
        "id": "DKkweFyqL1LL",
        "outputId": "cf7659f9-767e-4a56-ffdd-46785fe1d3e5"
      },
      "execution_count": null,
      "outputs": [
        {
          "output_type": "stream",
          "name": "stdout",
          "text": [
            "My Name is xeminxin\n"
          ]
        }
      ]
    },
    {
      "cell_type": "code",
      "source": [
        "p1 = Person()\n",
        "p2 = Person()"
      ],
      "metadata": {
        "id": "iljT_cbsMSqw"
      },
      "execution_count": null,
      "outputs": []
    },
    {
      "cell_type": "code",
      "source": [
        "p1.Name = '제니'\n",
        "p2.Name = '로제'\n",
        "p1.Print()\n",
        "p2.Print()"
      ],
      "metadata": {
        "colab": {
          "base_uri": "https://localhost:8080/"
        },
        "id": "Dc35oTC_NAXI",
        "outputId": "a46810d7-e98f-4a04-8380-2b8f0500aced"
      },
      "execution_count": null,
      "outputs": [
        {
          "output_type": "stream",
          "name": "stdout",
          "text": [
            "My Name is 제니\n",
            "My Name is 로제\n"
          ]
        }
      ]
    },
    {
      "cell_type": "markdown",
      "source": [
        "## Class에 속성 추가"
      ],
      "metadata": {
        "id": "66kM4t9OObVw"
      }
    },
    {
      "cell_type": "code",
      "source": [
        "Person.Title = 'New Title'"
      ],
      "metadata": {
        "id": "XbOezceTNJ2N"
      },
      "execution_count": null,
      "outputs": []
    },
    {
      "cell_type": "code",
      "source": [
        "print(p1.Title)\n",
        "print(p2.Title)"
      ],
      "metadata": {
        "colab": {
          "base_uri": "https://localhost:8080/"
        },
        "id": "NPmtasMeNb0x",
        "outputId": "0f067be7-8147-47ce-dad0-8871dc595ba1"
      },
      "execution_count": null,
      "outputs": [
        {
          "output_type": "stream",
          "name": "stdout",
          "text": [
            "New Title\n",
            "New Title\n"
          ]
        }
      ]
    },
    {
      "cell_type": "markdown",
      "source": [
        "별로 추천하지는 않지만, 클래스에 속성 추가하면 클래스 수정한 것이 전체에 적용된다."
      ],
      "metadata": {
        "id": "a5sdT7mxOeGb"
      }
    },
    {
      "cell_type": "code",
      "source": [
        "p1.Age = 30"
      ],
      "metadata": {
        "id": "FNlz-HvmOJ3H"
      },
      "execution_count": null,
      "outputs": []
    },
    {
      "cell_type": "code",
      "source": [
        "print(p1.Age)"
      ],
      "metadata": {
        "colab": {
          "base_uri": "https://localhost:8080/"
        },
        "id": "ytdhjaxPOaTT",
        "outputId": "2871f0c9-1235-4a1e-a9a6-b3ad163e1848"
      },
      "execution_count": null,
      "outputs": [
        {
          "output_type": "stream",
          "name": "stdout",
          "text": [
            "30\n"
          ]
        }
      ]
    },
    {
      "cell_type": "code",
      "source": [
        "print(p2.Age)"
      ],
      "metadata": {
        "colab": {
          "base_uri": "https://localhost:8080/",
          "height": 172
        },
        "id": "I7BbZB_DOkfl",
        "outputId": "cf398e67-5403-49f2-f5bb-6f84f1311573"
      },
      "execution_count": null,
      "outputs": [
        {
          "output_type": "error",
          "ename": "AttributeError",
          "evalue": "ignored",
          "traceback": [
            "\u001b[0;31m---------------------------------------------------------------------------\u001b[0m",
            "\u001b[0;31mAttributeError\u001b[0m                            Traceback (most recent call last)",
            "\u001b[0;32m<ipython-input-30-8bcf849a4420>\u001b[0m in \u001b[0;36m<cell line: 1>\u001b[0;34m()\u001b[0m\n\u001b[0;32m----> 1\u001b[0;31m \u001b[0mprint\u001b[0m\u001b[0;34m(\u001b[0m\u001b[0mp2\u001b[0m\u001b[0;34m.\u001b[0m\u001b[0mAge\u001b[0m\u001b[0;34m)\u001b[0m\u001b[0;34m\u001b[0m\u001b[0;34m\u001b[0m\u001b[0m\n\u001b[0m",
            "\u001b[0;31mAttributeError\u001b[0m: 'Person' object has no attribute 'Age'"
          ]
        }
      ]
    },
    {
      "cell_type": "markdown",
      "source": [
        "p1에만 Age를 추가한 것이라서, p2에는 없다"
      ],
      "metadata": {
        "id": "VMaKc0fJOq9c"
      }
    },
    {
      "cell_type": "markdown",
      "source": [
        "## Class의 상속\n",
        "부모에게 물려받는 것, class 간에 물려받는 것도 상속"
      ],
      "metadata": {
        "id": "QdsJlIcSPGt_"
      }
    },
    {
      "cell_type": "code",
      "source": [
        "class Person:\n",
        "  pass\n",
        "\n",
        "# parent class"
      ],
      "metadata": {
        "id": "84wNDbkhOqNZ"
      },
      "execution_count": null,
      "outputs": []
    },
    {
      "cell_type": "code",
      "source": [
        "class Student(Person):\n",
        "  pass\n",
        "\n",
        "# child class"
      ],
      "metadata": {
        "id": "Z2yZaB-PPPzj"
      },
      "execution_count": null,
      "outputs": []
    },
    {
      "cell_type": "code",
      "source": [
        "class Bird:\n",
        "  pass"
      ],
      "metadata": {
        "id": "BNcIkMs8PhK_"
      },
      "execution_count": null,
      "outputs": []
    },
    {
      "cell_type": "code",
      "source": [
        "p = Person()\n",
        "s = Student()"
      ],
      "metadata": {
        "id": "us9t5jAwQO0o"
      },
      "execution_count": null,
      "outputs": []
    },
    {
      "cell_type": "markdown",
      "source": [
        "## isinstance\n",
        "인스턴스 관계를 확인하는 함수"
      ],
      "metadata": {
        "id": "pH3sLtqZQMkh"
      }
    },
    {
      "cell_type": "code",
      "source": [
        "isinstance(p, Person)\n",
        "isinstance(s, Person)\n",
        "isinstance(s, object)\n",
        "isinstance(int, object)"
      ],
      "metadata": {
        "colab": {
          "base_uri": "https://localhost:8080/"
        },
        "id": "VOEA0R17QnF1",
        "outputId": "fec71e09-3fe6-4105-ee0b-6a51908d8b96"
      },
      "execution_count": null,
      "outputs": [
        {
          "output_type": "execute_result",
          "data": {
            "text/plain": [
              "True"
            ]
          },
          "metadata": {},
          "execution_count": 38
        }
      ]
    },
    {
      "cell_type": "markdown",
      "source": [
        "상속도 인정해준다.\n",
        "파이썬 체계에 있는 모든 생태계들은 object에서 나온 것들이라서 object도 된다.\n",
        "\n",
        "정수형도 object에서 상속 받은 것"
      ],
      "metadata": {
        "id": "fLwK4wJdQshy"
      }
    },
    {
      "cell_type": "markdown",
      "source": [
        "## 생성자 소멸자 메소드"
      ],
      "metadata": {
        "id": "Sgu2B0cCRaxB"
      }
    },
    {
      "cell_type": "code",
      "source": [
        "class MyClass:\n",
        "  def __init__(self):\n",
        "    print('class is created')"
      ],
      "metadata": {
        "id": "ucB-2KAVQrfO"
      },
      "execution_count": null,
      "outputs": []
    },
    {
      "cell_type": "code",
      "source": [
        "my = MyClass()"
      ],
      "metadata": {
        "colab": {
          "base_uri": "https://localhost:8080/"
        },
        "id": "a6Iu3EMeR2z6",
        "outputId": "9a3dd4d9-1f01-49bb-a3ad-57a5aae7112c"
      },
      "execution_count": null,
      "outputs": [
        {
          "output_type": "stream",
          "name": "stdout",
          "text": [
            "class is created\n"
          ]
        }
      ]
    },
    {
      "cell_type": "code",
      "source": [
        "class Person:\n",
        "  Name = ''\n",
        "  Age = 0\n",
        "  def __init__(self, name, age):\n",
        "    self.Name = name\n",
        "    self.Age = age\n",
        "\n",
        "  def __del__(self):\n",
        "    print('{0} 잘 살다 갑니다.' .format(self.Name))\n",
        "    \n",
        "  def PrintName(self):\n",
        "    print(self.Name)\n",
        "    print(self.Age)"
      ],
      "metadata": {
        "id": "wQcfQ4eSR--c"
      },
      "execution_count": null,
      "outputs": []
    },
    {
      "cell_type": "code",
      "source": [
        "p = Person('황비홍', 40)\n",
        "p.PrintName()\n",
        "del p"
      ],
      "metadata": {
        "colab": {
          "base_uri": "https://localhost:8080/"
        },
        "id": "sTLUS7DrTNjZ",
        "outputId": "af4194d4-4669-47c5-fee1-a765c690218e"
      },
      "execution_count": null,
      "outputs": [
        {
          "output_type": "stream",
          "name": "stdout",
          "text": [
            "황비홍\n",
            "40\n",
            "황비홍 잘 살다 갑니다.\n"
          ]
        }
      ]
    },
    {
      "cell_type": "markdown",
      "source": [
        "## 정적 (Static) 메소드"
      ],
      "metadata": {
        "id": "R74T7gEYYe4e"
      }
    },
    {
      "cell_type": "code",
      "source": [
        "class CounterManager:\n",
        "  InsCount = 0\n",
        "\n",
        "  def __init__(self):\n",
        "    CounterManager.InsCount += 1\n",
        "  def PrintInstanceCount(self):\n",
        "    print('Instance Count:', CounterManager.InsCount)"
      ],
      "metadata": {
        "id": "N-02p3msTi-c"
      },
      "execution_count": null,
      "outputs": []
    },
    {
      "cell_type": "code",
      "source": [
        "# 정적 메소드로 바꾸기\n",
        "\n",
        "class CounterManager:\n",
        "  InsCount = 0\n",
        "\n",
        "  def __init__(self):\n",
        "    CounterManager.InsCount += 1\n",
        "  def PrintInstanceCount():                                 # 정적 메소드로 전환\n",
        "    print('Instance Count:', CounterManager.InsCount)\n",
        "\n",
        "  StaticCount = staticmethod(PrintInstanceCount)            # 정적 메소드가 될 거라고 정의\n",
        "  "
      ],
      "metadata": {
        "id": "-eiXvxDfaROZ"
      },
      "execution_count": null,
      "outputs": []
    },
    {
      "cell_type": "markdown",
      "source": [
        "class로 instance 세 개 만들기\n",
        "몇 개를 만들었는가? 다운로드 프로그램이 있는데 100개를 했다면, 100개를 다운로드 중이라고 표시하는, 그런 카운트용으로 하나 만들고, 생성될 때마다 1씩 더하면 전체적인 카운트 생성"
      ],
      "metadata": {
        "id": "w-UUHg-jZOzd"
      }
    },
    {
      "cell_type": "code",
      "source": [
        "a = CounterManager()\n",
        "b = CounterManager()\n",
        "c = CounterManager()"
      ],
      "metadata": {
        "id": "QO-dMb1wZAXc"
      },
      "execution_count": null,
      "outputs": []
    },
    {
      "cell_type": "code",
      "source": [
        "CounterManager.PrintInstanceCount()"
      ],
      "metadata": {
        "colab": {
          "base_uri": "https://localhost:8080/",
          "height": 172
        },
        "id": "wGQ4j4r1ZWR8",
        "outputId": "d36f3f5a-bdcf-4dd9-9ad4-2331be35029f"
      },
      "execution_count": null,
      "outputs": [
        {
          "output_type": "error",
          "ename": "TypeError",
          "evalue": "ignored",
          "traceback": [
            "\u001b[0;31m---------------------------------------------------------------------------\u001b[0m",
            "\u001b[0;31mTypeError\u001b[0m                                 Traceback (most recent call last)",
            "\u001b[0;32m<ipython-input-59-1160780712b2>\u001b[0m in \u001b[0;36m<cell line: 1>\u001b[0;34m()\u001b[0m\n\u001b[0;32m----> 1\u001b[0;31m \u001b[0mCounterManager\u001b[0m\u001b[0;34m.\u001b[0m\u001b[0mPrintInstanceCount\u001b[0m\u001b[0;34m(\u001b[0m\u001b[0;34m)\u001b[0m\u001b[0;34m\u001b[0m\u001b[0;34m\u001b[0m\u001b[0m\n\u001b[0m",
            "\u001b[0;31mTypeError\u001b[0m: PrintInstanceCount() missing 1 required positional argument: 'self'"
          ]
        }
      ]
    },
    {
      "cell_type": "markdown",
      "source": [
        "instance로 해야지, class로 직접하면 결과는 나오지만 금기 사항이다.\n",
        "\n",
        "아래는 instance로 만들기"
      ],
      "metadata": {
        "id": "tOtfYvpRZu_p"
      }
    },
    {
      "cell_type": "code",
      "source": [
        "p = CounterManager()\n",
        "p.PrintInstanceCount()"
      ],
      "metadata": {
        "colab": {
          "base_uri": "https://localhost:8080/",
          "height": 190
        },
        "id": "cCISpNOQZaPW",
        "outputId": "77c2c585-a5a7-41f0-f36c-67ca52162a0c"
      },
      "execution_count": null,
      "outputs": [
        {
          "output_type": "error",
          "ename": "TypeError",
          "evalue": "ignored",
          "traceback": [
            "\u001b[0;31m---------------------------------------------------------------------------\u001b[0m",
            "\u001b[0;31mTypeError\u001b[0m                                 Traceback (most recent call last)",
            "\u001b[0;32m<ipython-input-64-3e5596fdf6d8>\u001b[0m in \u001b[0;36m<cell line: 2>\u001b[0;34m()\u001b[0m\n\u001b[1;32m      1\u001b[0m \u001b[0mp\u001b[0m \u001b[0;34m=\u001b[0m \u001b[0mCounterManager\u001b[0m\u001b[0;34m(\u001b[0m\u001b[0;34m)\u001b[0m\u001b[0;34m\u001b[0m\u001b[0;34m\u001b[0m\u001b[0m\n\u001b[0;32m----> 2\u001b[0;31m \u001b[0mp\u001b[0m\u001b[0;34m.\u001b[0m\u001b[0mPrintInstanceCount\u001b[0m\u001b[0;34m(\u001b[0m\u001b[0;34m)\u001b[0m\u001b[0;34m\u001b[0m\u001b[0;34m\u001b[0m\u001b[0m\n\u001b[0m",
            "\u001b[0;31mTypeError\u001b[0m: PrintInstanceCount() takes 0 positional arguments but 1 was given"
          ]
        }
      ]
    },
    {
      "cell_type": "code",
      "source": [
        "p = CounterManager()\n",
        "p.StaticCount()"
      ],
      "metadata": {
        "colab": {
          "base_uri": "https://localhost:8080/"
        },
        "id": "q-3m5X0haLw7",
        "outputId": "43a0a7bd-b7ae-41ed-84de-2177978864a8"
      },
      "execution_count": null,
      "outputs": [
        {
          "output_type": "stream",
          "name": "stdout",
          "text": [
            "Instance Count: 6\n"
          ]
        }
      ]
    },
    {
      "cell_type": "markdown",
      "source": [
        "## 상속의 심화"
      ],
      "metadata": {
        "id": "2_6qsxsVbs0t"
      }
    },
    {
      "cell_type": "code",
      "source": [
        "class Person:\n",
        "\n",
        "  def __init__(self, name, phone):\n",
        "    self.Name = name\n",
        "    self.Phone = phone\n",
        "\n",
        "  def PrintInfo(self):\n",
        "    print('Info(Name : {0}, Phone : {1})'.format(self.Name, self.Phone))\n",
        "\n",
        "  def PrintPersonData(self):\n",
        "    print('Person(Name : {0}, Phone {1})'.format(self.Name, self.Phone))\n",
        "  "
      ],
      "metadata": {
        "id": "SB6iOFsMbmYt"
      },
      "execution_count": null,
      "outputs": []
    },
    {
      "cell_type": "code",
      "source": [
        "class Student(Person) :\n",
        "  def __init__(self, name, phone, subject, studentID):\n",
        "    self.Name = name\n",
        "    self.Phone = phone\n",
        "    self.Subject = subject\n",
        "    self.StudentID = studentID    "
      ],
      "metadata": {
        "id": "SXjCicW6cYIn"
      },
      "execution_count": null,
      "outputs": []
    },
    {
      "cell_type": "markdown",
      "source": [
        "어차피 상속받은 건데 name, phone을 또 써줘야하나? 그렇다!\n",
        "\n",
        "다시 정의하는 거라서 다 써줘야한다."
      ],
      "metadata": {
        "id": "biigQyo-enxK"
      }
    },
    {
      "cell_type": "code",
      "source": [
        "p = Person('xeminxin', '010-xxxx-xxxx')\n",
        "s = Student('devida', '010-yyyy-yyyy', '홍보부장', '2017380304')"
      ],
      "metadata": {
        "id": "gNzS_JKNca2C"
      },
      "execution_count": null,
      "outputs": []
    },
    {
      "cell_type": "code",
      "source": [
        "print(p.__dict__)\n",
        "print(s.__dict__)"
      ],
      "metadata": {
        "colab": {
          "base_uri": "https://localhost:8080/"
        },
        "id": "RzUaVu5Qc1A3",
        "outputId": "62539db0-0a76-45aa-d1d3-3bbdfdb5a011"
      },
      "execution_count": null,
      "outputs": [
        {
          "output_type": "stream",
          "name": "stdout",
          "text": [
            "{'Name': 'xeminxin', 'Phone': '010-xxxx-xxxx'}\n",
            "{'Name': 'devida', 'Phone': '010-yyyy-yyyy', 'Subject': '홍보부장', 'StudentID': '2017380304'}\n"
          ]
        }
      ]
    },
    {
      "cell_type": "code",
      "source": [
        "s.PrintInfo()"
      ],
      "metadata": {
        "colab": {
          "base_uri": "https://localhost:8080/"
        },
        "id": "Vs4urpJsc5k3",
        "outputId": "a1701a84-f70e-48d5-bfdb-7965f6c2f93a"
      },
      "execution_count": null,
      "outputs": [
        {
          "output_type": "stream",
          "name": "stdout",
          "text": [
            "Info(Name : devida, Phone : 010-yyyy-yyyy)\n"
          ]
        }
      ]
    },
    {
      "cell_type": "markdown",
      "source": [
        "### 상속관계를 확인"
      ],
      "metadata": {
        "id": "NMH4g9jeejSW"
      }
    },
    {
      "cell_type": "code",
      "source": [
        "issubclass(Student, Person)"
      ],
      "metadata": {
        "colab": {
          "base_uri": "https://localhost:8080/"
        },
        "id": "Xmf_0NEJeiZ2",
        "outputId": "dfdffb7d-2581-4ea3-e52f-b7ac06f99c94"
      },
      "execution_count": null,
      "outputs": [
        {
          "output_type": "execute_result",
          "data": {
            "text/plain": [
              "True"
            ]
          },
          "metadata": {},
          "execution_count": 84
        }
      ]
    },
    {
      "cell_type": "code",
      "source": [
        "issubclass(Person, Student)"
      ],
      "metadata": {
        "colab": {
          "base_uri": "https://localhost:8080/"
        },
        "id": "iNKKlwBpevxU",
        "outputId": "816baa1c-de17-4a0b-eba7-a4003613c43e"
      },
      "execution_count": null,
      "outputs": [
        {
          "output_type": "execute_result",
          "data": {
            "text/plain": [
              "False"
            ]
          },
          "metadata": {},
          "execution_count": 85
        }
      ]
    },
    {
      "cell_type": "code",
      "source": [
        "class Student(Person) :\n",
        "  def __init__(self, name, phone, subject, studentID):\n",
        "    self.Name = name\n",
        "    self.Phone = phone\n",
        "    self.Subject = subject\n",
        "    self.StudentID = studentID \n",
        "\n",
        "    Person.__init__(self, name, phone)      # 부모 클래스의 생성자를 호출\n",
        "\n",
        "  def PrintStudentData(self):\n",
        "    print('Student(Name : {0}, StdentID : {1})'.format(self.Name, self.StudentID))\n",
        "\n",
        "  def PrintPersonData(self):\n",
        "    print('{0}님의 전공은 {1}입니다.)'.format(self.Name, self.Subject))\n",
        "    # 부모 클래스에 정의되어 있는 메소드가 재정의 됨. : 오버라이드드"
      ],
      "metadata": {
        "id": "6AYEnhNWezwD"
      },
      "execution_count": null,
      "outputs": []
    },
    {
      "cell_type": "code",
      "source": [
        "s = Student('devida', '010-yyyy-yyyy', 'Computer', '2017380304')\n",
        "s.PrintStudentData()"
      ],
      "metadata": {
        "colab": {
          "base_uri": "https://localhost:8080/"
        },
        "id": "badgyZ3GfoFI",
        "outputId": "aea5641f-9297-4f90-b7d1-d7daa5648740"
      },
      "execution_count": null,
      "outputs": [
        {
          "output_type": "stream",
          "name": "stdout",
          "text": [
            "Student(Name : devida, StdentID : 2017380304)\n"
          ]
        }
      ]
    },
    {
      "cell_type": "markdown",
      "source": [
        "## 다중상속"
      ],
      "metadata": {
        "id": "VwMVEVSky-GP"
      }
    },
    {
      "cell_type": "code",
      "source": [
        "class Tiger:\n",
        "  def Jump(self):\n",
        "    print('호랑이 점프')"
      ],
      "metadata": {
        "id": "f4Rr3eoxgfbA"
      },
      "execution_count": null,
      "outputs": []
    },
    {
      "cell_type": "code",
      "source": [
        "class Lion:\n",
        "  def Bite(self):\n",
        "    print('사자의 물기')"
      ],
      "metadata": {
        "id": "yy2UfawTg5vF"
      },
      "execution_count": null,
      "outputs": []
    },
    {
      "cell_type": "code",
      "source": [
        "class Liger(Tiger, Lion):\n",
        "  def Play(self) :\n",
        "    print('라이거의 놀기')"
      ],
      "metadata": {
        "id": "km03eUNIzkPe"
      },
      "execution_count": null,
      "outputs": []
    },
    {
      "cell_type": "code",
      "source": [
        "l = Liger()\n",
        "print(l.Jump())\n",
        "print(l.Jump())\n",
        "print(l.Play())"
      ],
      "metadata": {
        "colab": {
          "base_uri": "https://localhost:8080/"
        },
        "id": "fxQhO8SNz2Y3",
        "outputId": "01367ce6-b836-4287-b544-328d47354a8c"
      },
      "execution_count": null,
      "outputs": [
        {
          "output_type": "stream",
          "name": "stdout",
          "text": [
            "호랑이 점프\n",
            "None\n",
            "호랑이 점프\n",
            "None\n",
            "라이거의 놀기\n",
            "None\n"
          ]
        }
      ]
    },
    {
      "cell_type": "code",
      "source": [],
      "metadata": {
        "id": "hZwk8Hlb0Bxz"
      },
      "execution_count": null,
      "outputs": []
    }
  ]
}