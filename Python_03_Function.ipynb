{
  "nbformat": 4,
  "nbformat_minor": 0,
  "metadata": {
    "colab": {
      "provenance": [],
      "authorship_tag": "ABX9TyOEpzPgOX2myVzKKSJWeqsw",
      "include_colab_link": true
    },
    "kernelspec": {
      "name": "python3",
      "display_name": "Python 3"
    },
    "language_info": {
      "name": "python"
    }
  },
  "cells": [
    {
      "cell_type": "markdown",
      "metadata": {
        "id": "view-in-github",
        "colab_type": "text"
      },
      "source": [
        "<a href=\"https://colab.research.google.com/github/xeminxin/Python_grammer/blob/main/Python_03_Function.ipynb\" target=\"_parent\"><img src=\"https://colab.research.google.com/assets/colab-badge.svg\" alt=\"Open In Colab\"/></a>"
      ]
    },
    {
      "cell_type": "markdown",
      "source": [
        "# **Function**"
      ],
      "metadata": {
        "id": "oGiPpTMbXF1l"
      }
    },
    {
      "cell_type": "code",
      "execution_count": null,
      "metadata": {
        "id": "rTynEJXUWzgY"
      },
      "outputs": [],
      "source": [
        "def Times(a, b):\n",
        "  result = a * b\n",
        "  return result"
      ]
    },
    {
      "cell_type": "code",
      "source": [
        "print(Times)"
      ],
      "metadata": {
        "colab": {
          "base_uri": "https://localhost:8080/"
        },
        "id": "Kbwdm54LXYbk",
        "outputId": "1732e482-2b34-4a08-a891-ca11614f0a93"
      },
      "execution_count": null,
      "outputs": [
        {
          "output_type": "stream",
          "name": "stdout",
          "text": [
            "<function Times at 0x7ffa58619b80>\n"
          ]
        }
      ]
    },
    {
      "cell_type": "code",
      "source": [
        "print(Times(10, 20))"
      ],
      "metadata": {
        "colab": {
          "base_uri": "https://localhost:8080/"
        },
        "id": "d4IDRRuAXnt0",
        "outputId": "e2bb1b57-b8f4-4544-dd3e-b7427e4f1ff9"
      },
      "execution_count": null,
      "outputs": [
        {
          "output_type": "stream",
          "name": "stdout",
          "text": [
            "200\n"
          ]
        }
      ]
    },
    {
      "cell_type": "markdown",
      "source": [
        "함수를 사용해 곱을 구해줬음"
      ],
      "metadata": {
        "id": "RbN2999AXqCQ"
      }
    },
    {
      "cell_type": "markdown",
      "source": [
        "## 메모리 주소를 확인하는 명령"
      ],
      "metadata": {
        "id": "mf7nYIexYD9z"
      }
    },
    {
      "cell_type": "code",
      "source": [
        "print(id(Times))"
      ],
      "metadata": {
        "colab": {
          "base_uri": "https://localhost:8080/"
        },
        "id": "npxwXgOaXpD3",
        "outputId": "42b1786a-661b-494a-bafa-d84fa8973e8d"
      },
      "execution_count": null,
      "outputs": [
        {
          "output_type": "stream",
          "name": "stdout",
          "text": [
            "140713201343360\n"
          ]
        }
      ]
    },
    {
      "cell_type": "markdown",
      "source": [
        "\n",
        "\n",
        "```\n",
        "print(Times)\n",
        "```\n",
        "\n",
        "의 결과값인 <function Times at 0x7ffa58619b80>의 맨 뒤 0x~랑 같음. 진수 차이만 있음\n"
      ],
      "metadata": {
        "id": "RUg1wcmtYKdb"
      }
    },
    {
      "cell_type": "code",
      "source": [
        "globals()"
      ],
      "metadata": {
        "colab": {
          "base_uri": "https://localhost:8080/"
        },
        "id": "scvqmMn6YIMv",
        "outputId": "640d2853-bf2b-4b7d-c8aa-f399c80be48a"
      },
      "execution_count": null,
      "outputs": [
        {
          "output_type": "execute_result",
          "data": {
            "text/plain": [
              "{'__name__': '__main__',\n",
              " '__doc__': 'Automatically created module for IPython interactive environment',\n",
              " '__package__': None,\n",
              " '__loader__': None,\n",
              " '__spec__': None,\n",
              " '__builtin__': <module 'builtins' (built-in)>,\n",
              " '__builtins__': <module 'builtins' (built-in)>,\n",
              " '_ih': ['',\n",
              "  'def Times(a, b):\\n  result = a * b\\n  return result',\n",
              "  'print(Times)',\n",
              "  'Times(10, 20)',\n",
              "  'print(Times(10, 20))',\n",
              "  'print(id(Times))',\n",
              "  'global()',\n",
              "  'global(Times)',\n",
              "  'globals()'],\n",
              " '_oh': {3: 200},\n",
              " '_dh': ['/content'],\n",
              " 'In': ['',\n",
              "  'def Times(a, b):\\n  result = a * b\\n  return result',\n",
              "  'print(Times)',\n",
              "  'Times(10, 20)',\n",
              "  'print(Times(10, 20))',\n",
              "  'print(id(Times))',\n",
              "  'global()',\n",
              "  'global(Times)',\n",
              "  'globals()'],\n",
              " 'Out': {3: 200},\n",
              " 'get_ipython': <bound method InteractiveShell.get_ipython of <google.colab._shell.Shell object at 0x7ffa7560ef10>>,\n",
              " 'exit': <IPython.core.autocall.ZMQExitAutocall at 0x7ffa75209370>,\n",
              " 'quit': <IPython.core.autocall.ZMQExitAutocall at 0x7ffa75209370>,\n",
              " '_': 200,\n",
              " '__': '',\n",
              " '___': '',\n",
              " '_i': 'global(Times)',\n",
              " '_ii': 'global()',\n",
              " '_iii': 'print(id(Times))',\n",
              " '_i1': 'def Times(a, b):\\n  result = a * b\\n  return result',\n",
              " 'Times': <function __main__.Times(a, b)>,\n",
              " '_i2': 'print(Times)',\n",
              " '_i3': 'Times(10, 20)',\n",
              " '_3': 200,\n",
              " '_i4': 'print(Times(10, 20))',\n",
              " '_i5': 'print(id(Times))',\n",
              " '_i6': 'global()',\n",
              " '_i7': 'global(Times)',\n",
              " '_i8': 'globals()'}"
            ]
          },
          "metadata": {},
          "execution_count": 8
        }
      ]
    },
    {
      "cell_type": "markdown",
      "source": [
        "## 함수 복사하기"
      ],
      "metadata": {
        "id": "W3jaGwD6Yfka"
      }
    },
    {
      "cell_type": "code",
      "source": [
        "myTimes = Times\n",
        "print(myTimes(10, 20))"
      ],
      "metadata": {
        "colab": {
          "base_uri": "https://localhost:8080/"
        },
        "id": "3KhmmUXmYXOF",
        "outputId": "e29f298f-5c7b-4627-ced6-850c6967d6ce"
      },
      "execution_count": null,
      "outputs": [
        {
          "output_type": "stream",
          "name": "stdout",
          "text": [
            "200\n"
          ]
        }
      ]
    },
    {
      "cell_type": "code",
      "source": [
        "print(id(myTimes))"
      ],
      "metadata": {
        "colab": {
          "base_uri": "https://localhost:8080/"
        },
        "id": "MdOGOpHuYmFf",
        "outputId": "f761e2e0-3f2a-4342-b74d-d5a66ddbb88f"
      },
      "execution_count": null,
      "outputs": [
        {
          "output_type": "stream",
          "name": "stdout",
          "text": [
            "140713201343360\n"
          ]
        }
      ]
    },
    {
      "cell_type": "markdown",
      "source": [
        "주소를 확인해보니 같다.\n",
        "copy of reference라는 것"
      ],
      "metadata": {
        "id": "4AjBDsqLY0tI"
      }
    },
    {
      "cell_type": "code",
      "source": [
        "a = 10\n",
        "b = 20\n",
        "def sum1(x, y):\n",
        "  return x+y"
      ],
      "metadata": {
        "id": "AxTNmgq3Yv0f"
      },
      "execution_count": null,
      "outputs": []
    },
    {
      "cell_type": "code",
      "source": [
        "print(sum1(a, b))"
      ],
      "metadata": {
        "colab": {
          "base_uri": "https://localhost:8080/"
        },
        "id": "-ottImyTaPyJ",
        "outputId": "094fdabf-7fd4-4503-f444-477e186ecec1"
      },
      "execution_count": null,
      "outputs": [
        {
          "output_type": "stream",
          "name": "stdout",
          "text": [
            "30\n"
          ]
        }
      ]
    },
    {
      "cell_type": "markdown",
      "source": [
        "## 변수의 범위"
      ],
      "metadata": {
        "id": "b8FgfvUjb0hH"
      }
    },
    {
      "cell_type": "code",
      "source": [
        "x = 10\n",
        "def sum2(x, y):\n",
        "  x = 1\n",
        "  return x, y\n",
        "\n",
        "print(sum2(x, 20))\n",
        "print(x)"
      ],
      "metadata": {
        "colab": {
          "base_uri": "https://localhost:8080/"
        },
        "id": "3Nn2c2fgaRvH",
        "outputId": "fcad96f6-2dff-441a-e082-4f1fd30ddc33"
      },
      "execution_count": null,
      "outputs": [
        {
          "output_type": "stream",
          "name": "stdout",
          "text": [
            "(1, 20)\n",
            "10\n"
          ]
        }
      ]
    },
    {
      "cell_type": "markdown",
      "source": [
        "def 안에 있는 x는 함수 밖에서는 사라짐\n",
        "\n",
        "-> 함수의 range"
      ],
      "metadata": {
        "id": "uSqvGH6IbVjK"
      }
    },
    {
      "cell_type": "markdown",
      "source": [
        "\n",
        "\n",
        "---\n",
        "\n",
        "## 함수의 실행 횟수 세기"
      ],
      "metadata": {
        "id": "j9BSdhyObbqx"
      }
    },
    {
      "cell_type": "code",
      "source": [
        "g = 10\n",
        "x = 20\n",
        "\n",
        "def sum2(x, y):\n",
        "  global g\n",
        "  g = g + 1\n",
        "  return x, y\n",
        "\n",
        "print(sum2(x, 20))\n",
        "print(g)"
      ],
      "metadata": {
        "colab": {
          "base_uri": "https://localhost:8080/"
        },
        "id": "bbeWYhoQa63W",
        "outputId": "0a0333e9-2d72-4eb1-8526-4cf4b4b10129"
      },
      "execution_count": null,
      "outputs": [
        {
          "output_type": "stream",
          "name": "stdout",
          "text": [
            "(20, 20)\n",
            "11\n"
          ]
        }
      ]
    },
    {
      "cell_type": "markdown",
      "source": [
        "g라는 외부 변수가 있고, global g라고 하면 지역함수가 아니라 전체에서 사용하는 global 변수로 인식이 된다.\n",
        "그리고 global 변수에 1을 더하니 g는 1이 더해진 값이 되는 것이다."
      ],
      "metadata": {
        "id": "ZGn0WhIKb80F"
      }
    },
    {
      "cell_type": "markdown",
      "source": [
        "\n",
        "\n",
        "---\n",
        "\n",
        "## **Parameter** (함수의 인자)"
      ],
      "metadata": {
        "id": "apBY9U-gchzk"
      }
    },
    {
      "cell_type": "code",
      "source": [
        "def Times(a = 10, b = 20) :           # 디폴트 값을 지정\n",
        "  return a * b\n",
        "\n",
        "print(Times(100, 200))\n",
        "print(Times(100))                     # 100 * 20(디폴트 b값) 이 된다\n",
        "print(Times())                        # 디폴트 값이 들어감\n",
        "print(Times(b=100))                   # a값은 디폴트 값이 들어감 -> 순서 상관없이 하려면 명시적으로 지정해야야"
      ],
      "metadata": {
        "colab": {
          "base_uri": "https://localhost:8080/"
        },
        "id": "qYejmlMEbnKX",
        "outputId": "f754e3cc-7829-4920-cf6d-53454dc39ac6"
      },
      "execution_count": null,
      "outputs": [
        {
          "output_type": "stream",
          "name": "stdout",
          "text": [
            "20000\n",
            "2000\n",
            "200\n",
            "1000\n"
          ]
        }
      ]
    },
    {
      "cell_type": "code",
      "source": [
        "def connectURL(protocol = 'https', server = 'naver.com', port = '80'):\n",
        "  address = protocol + '://' + server + ':' + port\n",
        "  return address\n",
        "\n",
        "print(connectURL(port = '8080'))"
      ],
      "metadata": {
        "colab": {
          "base_uri": "https://localhost:8080/"
        },
        "id": "QSvI0Q7Sc89w",
        "outputId": "955adcb5-214b-4dd2-b0db-e9138585225d"
      },
      "execution_count": null,
      "outputs": [
        {
          "output_type": "stream",
          "name": "stdout",
          "text": [
            "https://naver.com:8080\n"
          ]
        }
      ]
    },
    {
      "cell_type": "markdown",
      "source": [
        "## 가변인자 함수"
      ],
      "metadata": {
        "id": "ezhaIAX4jQ8s"
      }
    },
    {
      "cell_type": "code",
      "source": [
        "def test(*args):\n",
        "  print(type(args))\n",
        "  print(args)\n",
        "\n",
        "test(1,2,3,4,5)\n",
        "test(1, 2, 3)"
      ],
      "metadata": {
        "colab": {
          "base_uri": "https://localhost:8080/"
        },
        "id": "Ayw04FrOd8nl",
        "outputId": "69ca2ab4-8517-4d7e-9385-6af7ed5c0192"
      },
      "execution_count": null,
      "outputs": [
        {
          "output_type": "stream",
          "name": "stdout",
          "text": [
            "<class 'tuple'>\n",
            "(1, 2, 3, 4, 5)\n",
            "<class 'tuple'>\n",
            "(1, 2, 3)\n"
          ]
        }
      ]
    },
    {
      "cell_type": "markdown",
      "source": [
        "기본적으로 튜플 타입으로 인식 되기 때문에 여러개라도 잘 돌아갈 수 있다."
      ],
      "metadata": {
        "id": "rFxSClq1joaL"
      }
    },
    {
      "cell_type": "code",
      "source": [],
      "metadata": {
        "id": "O-9TalpMjXSl"
      },
      "execution_count": null,
      "outputs": []
    }
  ]
}